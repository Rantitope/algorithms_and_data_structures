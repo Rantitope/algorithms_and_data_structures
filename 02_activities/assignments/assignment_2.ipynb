{
 "cells": [
  {
   "cell_type": "markdown",
   "metadata": {},
   "source": [
    "# Practice Interview\n",
    "\n",
    "## Objective\n",
    "\n",
    "_*The partner assignment aims to provide participants with the opportunity to practice coding in an interview context. You will analyze your partner's Assignment 1. Moreover, code reviews are common practice in a software development team. This assignment should give you a taste of the code review process.*_\n",
    "\n",
    "## Group Size\n",
    "\n",
    "Each group should have 2 people. You will be assigned a partner\n",
    "\n",
    "## Part 1:\n",
    "\n",
    "You and your partner must share each other's Assignment 1 submission."
   ]
  },
  {
   "cell_type": "markdown",
   "metadata": {},
   "source": [
    "\n",
    "## Part 2:\n",
    "\n",
    "Create a Jupyter Notebook, create 6 of the following headings, and complete the following for your partner's assignment 1:\n",
    "\n",
    "-   Paraphrase the problem in your own words.\n"
   ]
  },
  {
   "cell_type": "code",
   "execution_count": null,
   "metadata": {},
   "outputs": [],
   "source": [
    "The problem asks us to examine a binary tree and determine if it contains duplicate values. If duplicates are present, we need to return the first duplicate value encountered closest to the root. If there are multiple duplicates, the one appearing at the smallest depth is prioritized. If there are no duplicates in the tree, we return -1."
   ]
  },
  {
   "cell_type": "markdown",
   "metadata": {},
   "source": [
    "\n",
    "-   Create 1 new example that demonstrates you understand the problem. Trace/walkthrough 1 example that your partner made and explain it.\n"
   ]
  },
  {
   "cell_type": "code",
   "execution_count": null,
   "metadata": {},
   "outputs": [],
   "source": [
    "       4\n",
    "      / \\\n",
    "     3   6\n",
    "    / \\   \\\n",
    "   5   3   7\n",
    "In this tree:\n",
    "\n",
    "The root node has value 4.\n",
    "Its left child has value 3, and its right child has value 6.\n",
    "The left child of 3 is 5, and the right child of 3 is also 3 (duplicate).\n",
    "The right child of 6 is 7.\n",
    "Output:\n",
    "3\n",
    "\n",
    "\n",
    "\n",
    "       1\n",
    "      / \\\n",
    "    10   2\n",
    "   / \\   / \\\n",
    "  3  10 12 12\n",
    "Output:\n",
    "10\n",
    "\n",
    "Explanation:\n",
    "\n",
    "Start at the root (1): Look at the root node with the value 1. Add 1 to a list of values we've already seen.\n",
    "\n",
    "Go to the left child (10): Move to the left child of the root, which has the value 10. Add 10 to the list of seen values.\n",
    "\n",
    "Go to the left child of 10 (3): Now look at the left child of 10, which has the value 3. Add 3 to the list of seen values.\n",
    "\n",
    "Check the right child of 10 (10): Go back to the parent node 10 and now check its right child, which also has the value 10.\n",
    "\n",
    "Found a duplicate (10): Since 10 is already in the list of seen values, this is the first duplicate value we found. We stop here and return 10."
   ]
  },
  {
   "cell_type": "markdown",
   "metadata": {},
   "source": [
    "\n",
    "-   Copy the solution your partner wrote. \n"
   ]
  },
  {
   "cell_type": "code",
   "execution_count": null,
   "metadata": {},
   "outputs": [],
   "source": [
    "from collections import deque\n",
    "# Definition for a binary tree node.\n",
    "class TreeNode(object):\n",
    "    def __init__(self, val=0, left=None, right=None):\n",
    "        self.val = val\n",
    "        self.left = left\n",
    "        self.right = right\n",
    "\n",
    "def is_duplicate(root: TreeNode) -> int:\n",
    "    # Handle edge case of empty tree\n",
    "    if root is None:\n",
    "        return -1\n",
    "    \n",
    "    # Initialize BFS\n",
    "    queue = deque([root])\n",
    "    visited = set()\n",
    "    \n",
    "    # Traverse the tree using BFS\n",
    "    while queue:\n",
    "        current_node = queue.popleft()\n",
    "        \n",
    "        # Check for duplicate\n",
    "        if current_node.val in visited:\n",
    "            return current_node.val\n",
    "        visited.add(current_node.val)\n",
    "        \n",
    "        # Add children to the queue\n",
    "        if current_node.left:\n",
    "            queue.append(current_node.left)\n",
    "        if current_node.right:\n",
    "            queue.append(current_node.right)\n",
    "    \n",
    "    # If no duplicates found return -1\n",
    "    return -1"
   ]
  },
  {
   "cell_type": "markdown",
   "metadata": {},
   "source": [
    "\n",
    "-   Explain why their solution works in your own words.\n"
   ]
  },
  {
   "cell_type": "code",
   "execution_count": null,
   "metadata": {},
   "outputs": [],
   "source": [
    "The partner's solution is correct because it effectively uses BFS to traverse the tree level by level, \n",
    "tracks seen values with a set, and prioritizes finding the duplicate closest to the root. \n",
    "The algorithm is efficient and handles edge cases properly."
   ]
  },
  {
   "cell_type": "markdown",
   "metadata": {},
   "source": [
    "\n",
    "-   Explain the problem’s time and space complexity in your own words.\n"
   ]
  },
  {
   "cell_type": "code",
   "execution_count": null,
   "metadata": {},
   "outputs": [],
   "source": [
    "The time complexity of the solution is O(n), where n is the number of nodes in the binary tree. This is because the BFS algorithm processes each node exactly once, checking its value and adding its children to the queue if they exist. Checking for duplicates in the visited set and adding new values are both O(1) operations. Therefore, the overall runtime is dominated by the linear traversal of the tree, making the time complexity proportional to the number of nodes.\n",
    "\n",
    "The space complexity is also O(n) due to the queue used for BFS and the visited set. The queue holds the nodes of one level at a time, and in the worst-case scenario (e.g., a balanced binary tree), it may contain up to half the nodes at the last level, or approximately n/2. Additionally, the visited set stores all the unique values encountered during traversal, which in the worst case can be all n node values if there are no duplicates. Together, the queue and the set require space proportional to the number of nodes, leading to an overall space complexity of O(n)."
   ]
  },
  {
   "cell_type": "markdown",
   "metadata": {},
   "source": [
    "\n",
    "-   Critique your partner's solution, including explanation, and if there is anything that should be adjusted.\n"
   ]
  },
  {
   "cell_type": "code",
   "execution_count": null,
   "metadata": {},
   "outputs": [],
   "source": [
    "The partner's solution is efficient and well-suited for the problem, using Breadth-First Search (BFS) to prioritize nodes closer to the root when identifying duplicates. The choice of a set to track visited values is effective, as it ensures O(1) time complexity for duplicate checks and insertions. By processing each node only once, the solution achieves an optimal time complexity of O(n), while the queue and set usage result in a space complexity of O(n). The edge case of an empty tree is also handled correctly by returning -1 when root is None, showcasing that the solution covers basic edge cases.\n",
    "\n",
    "However, there are some areas where the solution could be improved. Adding more detailed comments and better variable naming would increase code readability and make the intent of each step clearer. For instance, naming queue as bfs_queue or node_queue and visited as seen_values could enhance clarity. The code could also include additional robustness checks, such as ensuring root is a valid TreeNode. Testing edge cases, like a single-node tree or a tree with all identical values, would further strengthen the solution. While functionally correct, these adjustments would make the code easier to understand, maintain, and integrate into larger systems."
   ]
  },
  {
   "cell_type": "markdown",
   "metadata": {},
   "source": [
    "\n",
    "## Part 3:\n",
    "\n",
    "Please write a 200 word reflection documenting your process from assignment 1, and your presentation and review experience with your partner at the bottom of the Jupyter Notebook under a new heading \"Reflection.\" Again, export this Notebook as pdf.\n"
   ]
  },
  {
   "cell_type": "markdown",
   "metadata": {},
   "source": [
    "### Reflection"
   ]
  },
  {
   "cell_type": "code",
   "execution_count": null,
   "metadata": {},
   "outputs": [],
   "source": [
    "Reflection\n",
    "The process of completing Assignment 1 required a thorough understanding of binary trees and efficient algorithms for identifying duplicates. Breaking down the problem into smaller tasks, such as implementing traversal logic, managing visited nodes, and identifying edge cases, helped clarify the solution structure. Working with BFS allowed us to prioritize finding duplicates closest to the root, which aligned perfectly with the problem requirements. While implementing the solution, I also revisited key concepts, such as the differences between BFS and DFS, to ensure the approach chosen was the most appropriate.\n",
    "\n",
    "During the presentation and review process with my partner, I appreciated the collaborative nature of exchanging insights. Reviewing my partner's code deepened my understanding of their approach and highlighted areas for improvement, such as variable naming and additional test cases for corner scenarios. Explaining my critique helped me reflect on my own approach to coding, particularly the importance of readability and robustness when writing solutions. I also found that summarizing and paraphrasing their work pushed me to think critically and articulate concepts more clearly. Overall, this assignment reinforced my problem-solving skills and taught me the value of constructive feedback. It was a rewarding experience that improved my technical and collaborative abilities.\n"
   ]
  },
  {
   "cell_type": "markdown",
   "metadata": {},
   "source": [
    "\n",
    "## Evaluation Criteria\n",
    "\n",
    "We are looking for the similar points as Assignment 1\n",
    "\n",
    "-   Problem is accurately stated\n",
    "\n",
    "-   New example is correct and easily understandable\n",
    "\n",
    "-   Correctness, time, and space complexity of the coding solution\n",
    "\n",
    "-   Clarity in explaining why the solution works, its time and space complexity\n",
    "\n",
    "-   Quality of critique of your partner's assignment, if necessary\n"
   ]
  },
  {
   "cell_type": "markdown",
   "metadata": {},
   "source": [
    "## Submission Information\n",
    "\n",
    "🚨 **Please review our [Assignment Submission Guide](https://github.com/UofT-DSI/onboarding/blob/main/onboarding_documents/submissions.md)** 🚨 for detailed instructions on how to format, branch, and submit your work. Following these guidelines is crucial for your submissions to be evaluated correctly.\n",
    "\n",
    "### Submission Parameters:\n",
    "* Submission Due Date: `HH:MM AM/PM - DD/MM/YYYY`\n",
    "* The branch name for your repo should be: `assignment-2`\n",
    "* What to submit for this assignment:\n",
    "    * This Jupyter Notebook (assignment_2.ipynb) should be populated and should be the only change in your pull request.\n",
    "* What the pull request link should look like for this assignment: `https://github.com/<your_github_username>/algorithms_and_data_structures/pull/<pr_id>`\n",
    "    * Open a private window in your browser. Copy and paste the link to your pull request into the address bar. Make sure you can see your pull request properly. This helps the technical facilitator and learning support staff review your submission easily.\n",
    "\n",
    "Checklist:\n",
    "- [ ] Created a branch with the correct naming convention.\n",
    "- [ ] Ensured that the repository is public.\n",
    "- [ ] Reviewed the PR description guidelines and adhered to them.\n",
    "- [ ] Verify that the link is accessible in a private browser window.\n",
    "\n",
    "If you encounter any difficulties or have questions, please don't hesitate to reach out to our team via our Slack at `#cohort-3-help`. Our Technical Facilitators and Learning Support staff are here to help you navigate any challenges.\n"
   ]
  }
 ],
 "metadata": {
  "language_info": {
   "name": "python"
  }
 },
 "nbformat": 4,
 "nbformat_minor": 2
}
